{
 "cells": [
  {
   "cell_type": "code",
   "execution_count": 7,
   "id": "408c9bff",
   "metadata": {},
   "outputs": [
    {
     "ename": "ImportError",
     "evalue": "attempted relative import with no known parent package",
     "output_type": "error",
     "traceback": [
      "\u001b[1;31m---------------------------------------------------------------------------\u001b[0m",
      "\u001b[1;31mImportError\u001b[0m                               Traceback (most recent call last)",
      "Cell \u001b[1;32mIn[7], line 1\u001b[0m\n\u001b[1;32m----> 1\u001b[0m \u001b[38;5;28;01mfrom\u001b[39;00m \u001b[38;5;21;01m.\u001b[39;00m\u001b[38;5;21;01m.\u001b[39;00m\u001b[38;5;21;01msrc\u001b[39;00m\u001b[38;5;21;01m.\u001b[39;00m\u001b[38;5;21;01mloader\u001b[39;00m \u001b[38;5;28;01mimport\u001b[39;00m DataLoader\n\u001b[0;32m      3\u001b[0m data_Loader \u001b[38;5;241m=\u001b[39m SlackDataLoader()\n\u001b[0;32m      4\u001b[0m slack_data \u001b[38;5;241m=\u001b[39m data_Loader\u001b[38;5;241m.\u001b[39mload_slack_data(\u001b[38;5;124m\"\u001b[39m\u001b[38;5;124mB:\u001b[39m\u001b[38;5;130;01m\\10\u001b[39;00m\u001b[38;5;124mxfile\u001b[39m\u001b[38;5;124m\\\u001b[39m\u001b[38;5;124mstudy-group\u001b[39m\u001b[38;5;124m\"\u001b[39m)\n",
      "\u001b[1;31mImportError\u001b[0m: attempted relative import with no known parent package"
     ]
    }
   ],
   "source": [
    "from ..src.loader import DataLoader\n",
    "\n",
    "data_Loader = SlackDataLoader()\n",
    "slack_data = data_Loader.load_slack_data(\"B:\\10xfile\\study-group\")\n",
    "\n",
    "from src.utils import clean_data, visualize_network\n",
    "\n",
    "cleaned_data = clean_data(slack_data)\n",
    "visualize_network(cleaned_data)\n"
   ]
  },
  {
   "cell_type": "code",
   "execution_count": 2,
   "id": "d0ebe140",
   "metadata": {},
   "outputs": [
    {
     "name": "stdout",
     "output_type": "stream",
     "text": [
      "C:\\Users\\HP\\week0_starter_network_analysis\\tests\n"
     ]
    }
   ],
   "source": [
    "import os \n",
    "print(os.getcwd())"
   ]
  },
  {
   "cell_type": "code",
   "execution_count": null,
   "id": "e9649bd8",
   "metadata": {},
   "outputs": [],
   "source": [
    "import sys\n",
    "sys.path.append('C:\\Users\\HP\\week0_starter_network_analysis\\')"
   ]
  }
 ],
 "metadata": {
  "kernelspec": {
   "display_name": "Python 3 (ipykernel)",
   "language": "python",
   "name": "python3"
  },
  "language_info": {
   "codemirror_mode": {
    "name": "ipython",
    "version": 3
   },
   "file_extension": ".py",
   "mimetype": "text/x-python",
   "name": "python",
   "nbconvert_exporter": "python",
   "pygments_lexer": "ipython3",
   "version": "3.11.5"
  }
 },
 "nbformat": 4,
 "nbformat_minor": 5
}
